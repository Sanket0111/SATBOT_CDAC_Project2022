{
 "cells": [
  {
   "cell_type": "code",
   "execution_count": 1,
   "id": "c103a70b",
   "metadata": {},
   "outputs": [],
   "source": [
    "#IMPORTING LIBRARIES\n",
    "from nsepy import get_history\n",
    "#to get publicly available data on the current NSEIndia site by communicating with their REST APIs.\n",
    "from datetime import date, datetime  \n",
    "# supplies classes for manipulating dates and times.\n",
    "import os \n",
    "#provides functions for interacting with the operating system. \n",
    "from tradingview_ta import TA_Handler, Interval, Exchange \n",
    "#unofficial Python API wrapper to retrieve technical analysis from TradingView\n",
    "import time \n",
    "#time module allows to work with time in Python.\n",
    "from selenium import webdriver\n",
    "#selenium represents a set of api's that can be used to control a browser programmatically.\n",
    "#webdriver used for the validation of websites (and web applications)\n",
    "from selenium.webdriver.chrome.service import Service\n",
    "#Returns us an instance of Chrome driver through which we will be interacting with Chrome browser.\n",
    "#service will open chrome browser\n",
    "from webdriver_manager.chrome import ChromeDriverManager\n",
    "from selenium.webdriver.common.by import By"
   ]
  },
  {
   "cell_type": "code",
   "execution_count": 2,
   "id": "e5448f63",
   "metadata": {},
   "outputs": [],
   "source": [
    "#os.system(\"figlet -c Smart Algo Trading Bot \")\n",
    "Today = date.today()\n",
    "y = Today.strftime(\"%Y\")\n",
    "m = Today.strftime(\"%m\")\n",
    "d = Today.strftime(\"%d\")\n",
    "# d = \"30\""
   ]
  },
  {
   "cell_type": "code",
   "execution_count": 3,
   "id": "4e97b5ed",
   "metadata": {},
   "outputs": [],
   "source": [
    "#last order\n",
    "last_order=\"sell\"\n",
    "sold_before = False\n",
    "bought_before = False\n",
    "current_price = 0\n",
    "take_profit = 0.0\n",
    "take_loss = 0.0"
   ]
  },
  {
   "cell_type": "code",
   "execution_count": 4,
   "id": "d30111a8",
   "metadata": {},
   "outputs": [
    {
     "name": "stderr",
     "output_type": "stream",
     "text": [
      "[WDM] - Downloading: 100%|██████████| 6.58M/6.58M [00:02<00:00, 2.85MB/s]\n"
     ]
    }
   ],
   "source": [
    "#load chrome driver \n",
    "# driver = webdriver.Chrome(executable_path=\"/Users/mrm/Downloads/chromedriver\")\n",
    "s=Service(ChromeDriverManager().install())\n",
    "driver = webdriver.Chrome(service=s)\n",
    "driver.maximize_window()\n",
    "driver.get(\"https://in.tradingview.com/\")\n",
    "time.sleep(60)"
   ]
  },
  {
   "cell_type": "code",
   "execution_count": 5,
   "id": "4bf9cd7b",
   "metadata": {},
   "outputs": [
    {
     "name": "stdout",
     "output_type": "stream",
     "text": [
      "Time to close for the day\n"
     ]
    },
    {
     "ename": "NoSuchWindowException",
     "evalue": "Message: no such window: target window already closed\nfrom unknown error: web view not found\n  (Session info: chrome=108.0.5359.125)\nStacktrace:\nBacktrace:\n\t(No symbol) [0x0080F243]\n\t(No symbol) [0x00797FD1]\n\t(No symbol) [0x0068D04D]\n\t(No symbol) [0x00672D7A]\n\t(No symbol) [0x006DBE7B]\n\t(No symbol) [0x006EC196]\n\t(No symbol) [0x006D8386]\n\t(No symbol) [0x006B163C]\n\t(No symbol) [0x006B269D]\n\tGetHandleVerifier [0x00AA9A22+2655074]\n\tGetHandleVerifier [0x00A9CA24+2601828]\n\tGetHandleVerifier [0x008B8C0A+619850]\n\tGetHandleVerifier [0x008B7830+614768]\n\t(No symbol) [0x007A05FC]\n\t(No symbol) [0x007A5968]\n\t(No symbol) [0x007A5A55]\n\t(No symbol) [0x007B051B]\n\tBaseThreadInitThunk [0x75E200F9+25]\n\tRtlGetAppContainerNamedObjectPath [0x77B87BBE+286]\n\tRtlGetAppContainerNamedObjectPath [0x77B87B8E+238]\n",
     "output_type": "error",
     "traceback": [
      "\u001b[1;31m---------------------------------------------------------------------------\u001b[0m",
      "\u001b[1;31mNoSuchWindowException\u001b[0m                     Traceback (most recent call last)",
      "Cell \u001b[1;32mIn [5], line 96\u001b[0m\n\u001b[0;32m     94\u001b[0m \u001b[39mprint\u001b[39m(\u001b[39m\"\u001b[39m\u001b[39mTime to close for the day\u001b[39m\u001b[39m\"\u001b[39m)\n\u001b[0;32m     95\u001b[0m \u001b[39m# #fetch open profit\u001b[39;00m\n\u001b[1;32m---> 96\u001b[0m open_profit \u001b[39m=\u001b[39m driver\u001b[39m.\u001b[39mfind_element(By\u001b[39m.\u001b[39mXPATH,\u001b[39m\"\u001b[39m\u001b[39m//div[2]/div[7]/div[2]/div[4]/div/div[1]/div/div[2]/div[3]/div[1]\u001b[39m\u001b[39m\"\u001b[39m)\u001b[39m.\u001b[39mtext\n\u001b[0;32m     97\u001b[0m \u001b[39m# print(open_profit)\u001b[39;00m\n\u001b[0;32m     98\u001b[0m \u001b[39m# P = \"1000\"\u001b[39;00m\n\u001b[0;32m     99\u001b[0m \u001b[39mprint\u001b[39m(\u001b[39m\"\u001b[39m\u001b[39mCalculating profit :\u001b[39m\u001b[39m\"\u001b[39m,open_profit)\n",
      "File \u001b[1;32mc:\\Users\\Sanket\\AppData\\Local\\Programs\\Python\\Python310\\lib\\site-packages\\selenium\\webdriver\\remote\\webdriver.py:855\u001b[0m, in \u001b[0;36mWebDriver.find_element\u001b[1;34m(self, by, value)\u001b[0m\n\u001b[0;32m    852\u001b[0m     by \u001b[39m=\u001b[39m By\u001b[39m.\u001b[39mCSS_SELECTOR\n\u001b[0;32m    853\u001b[0m     value \u001b[39m=\u001b[39m \u001b[39m'\u001b[39m\u001b[39m[name=\u001b[39m\u001b[39m\"\u001b[39m\u001b[39m%s\u001b[39;00m\u001b[39m\"\u001b[39m\u001b[39m]\u001b[39m\u001b[39m'\u001b[39m \u001b[39m%\u001b[39m value\n\u001b[1;32m--> 855\u001b[0m \u001b[39mreturn\u001b[39;00m \u001b[39mself\u001b[39;49m\u001b[39m.\u001b[39;49mexecute(Command\u001b[39m.\u001b[39;49mFIND_ELEMENT, {\n\u001b[0;32m    856\u001b[0m     \u001b[39m'\u001b[39;49m\u001b[39musing\u001b[39;49m\u001b[39m'\u001b[39;49m: by,\n\u001b[0;32m    857\u001b[0m     \u001b[39m'\u001b[39;49m\u001b[39mvalue\u001b[39;49m\u001b[39m'\u001b[39;49m: value})[\u001b[39m'\u001b[39m\u001b[39mvalue\u001b[39m\u001b[39m'\u001b[39m]\n",
      "File \u001b[1;32mc:\\Users\\Sanket\\AppData\\Local\\Programs\\Python\\Python310\\lib\\site-packages\\selenium\\webdriver\\remote\\webdriver.py:428\u001b[0m, in \u001b[0;36mWebDriver.execute\u001b[1;34m(self, driver_command, params)\u001b[0m\n\u001b[0;32m    426\u001b[0m response \u001b[39m=\u001b[39m \u001b[39mself\u001b[39m\u001b[39m.\u001b[39mcommand_executor\u001b[39m.\u001b[39mexecute(driver_command, params)\n\u001b[0;32m    427\u001b[0m \u001b[39mif\u001b[39;00m response:\n\u001b[1;32m--> 428\u001b[0m     \u001b[39mself\u001b[39;49m\u001b[39m.\u001b[39;49merror_handler\u001b[39m.\u001b[39;49mcheck_response(response)\n\u001b[0;32m    429\u001b[0m     response[\u001b[39m'\u001b[39m\u001b[39mvalue\u001b[39m\u001b[39m'\u001b[39m] \u001b[39m=\u001b[39m \u001b[39mself\u001b[39m\u001b[39m.\u001b[39m_unwrap_value(\n\u001b[0;32m    430\u001b[0m         response\u001b[39m.\u001b[39mget(\u001b[39m'\u001b[39m\u001b[39mvalue\u001b[39m\u001b[39m'\u001b[39m, \u001b[39mNone\u001b[39;00m))\n\u001b[0;32m    431\u001b[0m     \u001b[39mreturn\u001b[39;00m response\n",
      "File \u001b[1;32mc:\\Users\\Sanket\\AppData\\Local\\Programs\\Python\\Python310\\lib\\site-packages\\selenium\\webdriver\\remote\\errorhandler.py:243\u001b[0m, in \u001b[0;36mErrorHandler.check_response\u001b[1;34m(self, response)\u001b[0m\n\u001b[0;32m    241\u001b[0m         alert_text \u001b[39m=\u001b[39m value[\u001b[39m'\u001b[39m\u001b[39malert\u001b[39m\u001b[39m'\u001b[39m]\u001b[39m.\u001b[39mget(\u001b[39m'\u001b[39m\u001b[39mtext\u001b[39m\u001b[39m'\u001b[39m)\n\u001b[0;32m    242\u001b[0m     \u001b[39mraise\u001b[39;00m exception_class(message, screen, stacktrace, alert_text)  \u001b[39m# type: ignore[call-arg]  # mypy is not smart enough here\u001b[39;00m\n\u001b[1;32m--> 243\u001b[0m \u001b[39mraise\u001b[39;00m exception_class(message, screen, stacktrace)\n",
      "\u001b[1;31mNoSuchWindowException\u001b[0m: Message: no such window: target window already closed\nfrom unknown error: web view not found\n  (Session info: chrome=108.0.5359.125)\nStacktrace:\nBacktrace:\n\t(No symbol) [0x0080F243]\n\t(No symbol) [0x00797FD1]\n\t(No symbol) [0x0068D04D]\n\t(No symbol) [0x00672D7A]\n\t(No symbol) [0x006DBE7B]\n\t(No symbol) [0x006EC196]\n\t(No symbol) [0x006D8386]\n\t(No symbol) [0x006B163C]\n\t(No symbol) [0x006B269D]\n\tGetHandleVerifier [0x00AA9A22+2655074]\n\tGetHandleVerifier [0x00A9CA24+2601828]\n\tGetHandleVerifier [0x008B8C0A+619850]\n\tGetHandleVerifier [0x008B7830+614768]\n\t(No symbol) [0x007A05FC]\n\t(No symbol) [0x007A5968]\n\t(No symbol) [0x007A5A55]\n\t(No symbol) [0x007B051B]\n\tBaseThreadInitThunk [0x75E200F9+25]\n\tRtlGetAppContainerNamedObjectPath [0x77B87BBE+286]\n\tRtlGetAppContainerNamedObjectPath [0x77B87B8E+238]\n"
     ]
    }
   ],
   "source": [
    "#initiating tradingview handler to get the recomendation for sonata software for 15 min interval\n",
    "ssw = TA_Handler(\n",
    "    symbol=\"RELIANCE\",\n",
    "    screener=\"india\",\n",
    "    exchange=\"NSE\",\n",
    "    interval=Interval.INTERVAL_5_MINUTES\n",
    ")\n",
    "def countdown(t):\n",
    "    while t:\n",
    "        mins, secs = divmod(t, 60)\n",
    "        timer = '{:02d}:{:02d}'.format(mins, secs)\n",
    "        print(timer, end=\"\\r\")\n",
    "        time.sleep(1)\n",
    "        t -= 1\n",
    "while True:\n",
    "    now = datetime.now()\n",
    "    current_time = now.strftime(\"%H:%M:%S\")\n",
    "    if(current_time >= \"09:30:00\" and current_time < \"15:10:00\"):\n",
    "\n",
    "        rec = ssw.get_analysis()\n",
    "        RSI = rec.indicators[\"RSI\"]\n",
    "        # MACD = rec.indicators[\"MACD.macd\"]\n",
    "        EMA = rec.moving_averages[\"COMPUTE\"][\"EMA10\"]\n",
    "        print(\"RSI:\", RSI, \"EMA:\", EMA)\n",
    "\n",
    "\n",
    "        if ( RSI >= 30 and RSI <= 70 and EMA == \"BUY\" ):\n",
    "            if (last_order==\"sell\"):\n",
    "                print(\"Buying 1 stock of RELIANCE\")\n",
    "                last_order=\"buy\"\n",
    "                print(last_order)\n",
    "                print(sold_before)\n",
    "                #buy 1 stock of RELIANCE\n",
    "                driver.find_element(By.XPATH,\"//div[2]/div[2]/div[1]/div/div/div[1]/div[2]/div/div[2]\").click()\n",
    "                driver.find_element(By.XPATH,\"//div[2]/div[2]/div[1]/div/div/div[1]/div[6]/button/div/span[2]\").click()\n",
    "                current_price = driver.find_element(By.XPATH,\"/html/body/div[2]/div[1]/div[2]/div[1]/div/table/tr[1]/td[2]/div/div[2]/div[1]/div[2]/div[1]\").text\n",
    "                print(current_price)\n",
    "                take_profit = float(current_price) + 8\n",
    "                take_loss = float(current_price) - 5\n",
    "                while True:\n",
    "                    print(\"Time left till next call - \")\n",
    "                    countdown(int(5))\n",
    "                    rec = ssw.get_analysis()\n",
    "                    RSI = rec.indicators[\"RSI\"]\n",
    "                    # MACD = rec.indicators[\"MACD.macd\"]\n",
    "                    EMA = rec.moving_averages[\"COMPUTE\"][\"EMA10\"]\n",
    "                    print(\"RSI:\", RSI, \"EMA:\", EMA)\n",
    "                    current_price = driver.find_element(By.XPATH,\"//div[2]/div[1]/div[2]/div[1]/div/table/tr[1]/td[2]/div/div[2]/div[1]/div[2]/div[1]\").text\n",
    "                    if((RSI >= 30 and EMA == \"SELL\") or (float(current_price) >= take_profit) or (float(current_price) <= take_loss)):\n",
    "                        #sell the stock\n",
    "                        print(\"Selling 1 stock of RELIANCE\")\n",
    "                        last_order=\"sell\"\n",
    "                        print(last_order)\n",
    "                        #sell 1 stock of RELIANCE \n",
    "                        driver.find_element(By.XPATH,\"//div[2]/div[2]/div[1]/div/div/div[1]/div[2]/div/div[1]\").click()\n",
    "                        time.sleep(2)\n",
    "                        driver.find_element(By.XPATH,\"//button[1]/div[1]/span[2]\").click()\n",
    "                        break\n",
    "                    else:\n",
    "                        print(\"no adjustment required\")\n",
    "            else:\n",
    "                print(\"last order not sold\")\n",
    "        elif( RSI >= 50 and EMA == \"SELL\" ):\n",
    "            if ( last_order == \"sell\"):\n",
    "                print(\"selling stock of  RELIANCE\")\n",
    "                driver.find_element(By.XPATH,\"//div[2]/div[2]/div[1]/div/div/div[1]/div[2]/div/div[1]\").click()\n",
    "                time.sleep(2)\n",
    "                driver.find_element(By.XPATH,\"//button[1]/div[1]/span[2]\").click            ()\n",
    "                current_price = driver.find_element(By.XPATH,\"//div[2]/div[1]/div[2]/div[1]/div/table/tr[1]/td[2]/div/div[2]/div[1]/div[2]/div[1]\").text\n",
    "                print(current_price)\n",
    "                take_profit = float(current_price) - 8\n",
    "                take_loss = float(current_price) + 5\n",
    "                while True:\n",
    "                    print(\"Time left till next call - \")\n",
    "                    countdown(int(5))\n",
    "                    rec = ssw.get_analysis()\n",
    "                    RSI = rec.indicators[\"RSI\"]\n",
    "                    EMA = rec.moving_averages[\"COMPUTE\"][\"EMA10\"]\n",
    "                    print(\"RSI:\", RSI, \"EMA:\", EMA)\n",
    "                    current_price = driver.find_element(By.XPATH,\"//div[2]/div[1]/div[2]/div[1]/div/table/tr[1]/td[2]/div/div[2]/div[1]/div[2]/div[1]\").text\n",
    "                    if((RSI <= 30 and EMA == \"BUY\") or ( float(current_price) <= take_profit) or (float(current_price) >= take_loss)):\n",
    "                        #buy the stock\n",
    "                        print(\"Buying the stock\")\n",
    "                        driver.find_element(By.XPATH,\"//div[2]/div[2]/div[1]/div/div/div[1]/div[2]/div/div[2]\").click()\n",
    "                        driver.find_element(By.XPATH,\"//div[2]/div[2]/div[1]/div/div/div[1]/div[6]/button/div/span[2]\").click()\n",
    "                        break\n",
    "                    else:\n",
    "                        print(\"no adjustment required\")\n",
    "\n",
    "        else:\n",
    "            print(\"condition not favourable..waiting\")\n",
    "          \n",
    "    elif(current_time >= \"15:10:00\"):\n",
    "        print(\"Time to close for the day\")\n",
    "        # #fetch open profit\n",
    "        open_profit = driver.find_element(By.XPATH,\"//div[2]/div[7]/div[2]/div[4]/div/div[1]/div/div[2]/div[3]/div[1]\").text\n",
    "        # print(open_profit)\n",
    "        # P = \"1000\"\n",
    "        print(\"Calculating profit :\",open_profit)\n",
    "        break\n",
    "    else:\n",
    "        if(current_time >= \"09:15:00\" and current_time < \"09:30:00\"):\n",
    "            print(\"Analysing market\",\"\\n\\n\")\n",
    "        elif(current_time < \"9:15:00\"):\n",
    "            print(\"Waiting for market to open\")\n",
    "        else:\n",
    "            print(\"No action required\")\n",
    "        "
   ]
  }
 ],
 "metadata": {
  "kernelspec": {
   "display_name": "Python 3",
   "language": "python",
   "name": "python3"
  },
  "language_info": {
   "codemirror_mode": {
    "name": "ipython",
    "version": 3
   },
   "file_extension": ".py",
   "mimetype": "text/x-python",
   "name": "python",
   "nbconvert_exporter": "python",
   "pygments_lexer": "ipython3",
   "version": "3.10.4 (tags/v3.10.4:9d38120, Mar 23 2022, 23:13:41) [MSC v.1929 64 bit (AMD64)]"
  },
  "vscode": {
   "interpreter": {
    "hash": "f866db28294457e8534e23c90e0ccf9562a6a05d2061c1f186af56b56fd89efd"
   }
  }
 },
 "nbformat": 4,
 "nbformat_minor": 5
}
